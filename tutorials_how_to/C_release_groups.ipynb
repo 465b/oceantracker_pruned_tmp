{
 "cells": [
  {
   "attachments": {},
   "cell_type": "markdown",
   "metadata": {},
   "source": [
    "# Release Groups\n",
    "\n",
    "[This note-book is in oceantracker/tutorials_how_to/]\n",
    "\n",
    "A release group is a set of particles released at the same times and location. There can be many release groups. This enables the fate of particles from different origins to be tracked separately within the same computational run. Importantly,  on the fly statistics  are separated into release groups. Eg. gridded statistics return a heat map for each release group, while polygon statistics give the connectivity between each given polygon and each release group.    \n",
    "\n",
    "A release group may be \n",
    "\n",
    "* a \"point_releases\" set points, giving one or more 2D or 3D locations where particles are released. A radius for 2D release around theses point also can be set. \n",
    "    \n",
    "* \"polygon release\", where particles are released randomly within polygon made up of 3 or more 2D points. Particles will not be released in any parts of the polygon outside the domain. \n",
    "    \n",
    "For polygons, the vertical release location is randomly chosen in the water column, or user a given  in z range. If the z value of a point release is not given, then the vertical release location is chosen in the same manner. \n",
    "\n",
    "For both types user can specify:\n",
    "\n",
    "   * time to start and end the release, or the duration of the release. Defaults are to start at beginning of hindcast and continue until it's end. \n",
    "\n",
    "   * the time between releases, the  \"release_interval\",  a zero value gives a single release.\n",
    "\n",
    "   * the number of particles release each time, the \"pulse_size\"\n",
    "\n",
    "   * whether to release in dry cells, default \"allow_release_in_dry_cells\" = False\n",
    "\n",
    "Plus other options see:\n",
    "\n",
    "add links...\n",
    "\n",
    "\n",
    "\n",
    "\n",
    "    "
   ]
  },
  {
   "cell_type": "code",
   "execution_count": 1,
   "metadata": {},
   "outputs": [],
   "source": [
    "# show example of release types with start and end times, \n",
    "#  set up reading geojson/ shapely polygons and show example\n"
   ]
  },
  {
   "attachments": {},
   "cell_type": "markdown",
   "metadata": {},
   "source": []
  }
 ],
 "metadata": {
  "kernelspec": {
   "display_name": "oceanumapp",
   "language": "python",
   "name": "python3"
  },
  "language_info": {
   "codemirror_mode": {
    "name": "ipython",
    "version": 3
   },
   "file_extension": ".py",
   "mimetype": "text/x-python",
   "name": "python",
   "nbconvert_exporter": "python",
   "pygments_lexer": "ipython3",
   "version": "3.10.9"
  },
  "orig_nbformat": 4
 },
 "nbformat": 4,
 "nbformat_minor": 2
}
