{
 "cells": [
  {
   "attachments": {},
   "cell_type": "markdown",
   "metadata": {},
   "source": [
    "# Output files\n",
    "\n",
    "After runnnig ouput files are in the iles are folder given by parameters .\\\\\"root_output_dir\"\\\\\"output_file_base\"\n",
    "\n",
    "The main files are:\n",
    "\n",
    "   *  users_params_*.json, a copy of the parameters as supplied by the user\n",
    "\n",
    "   *  _runInfo.json holds file names of case  files\n",
    "    \n",
    "   * _caseInfo.json files, have all the output files for each case run (only 1 case in this example), plus infomation about the run and data useful in plotting \n",
    "\n",
    "   * _caseLog_log.txt has a copy of what appeared on the screen during the run \n",
    "\n",
    "   * _tracks.nc holds the particle tracks in a netcdf file, see below for code example on reading the tracks\n",
    "\n",
    "   * _grid_outline.json are the boundaries of hydrodynamic model's domain and islands, useful in plotting\n",
    "\n",
    "   * _grid.nc a net cdf of the hydo-model's grid and other infomation, useful in plotting and analysis\n",
    "   \n",
    "  \n",
    "Below list the files after running the minimmal example. \n",
    "    "
   ]
  },
  {
   "cell_type": "code",
   "execution_count": 1,
   "metadata": {},
   "outputs": [
    {
     "name": "stdout",
     "output_type": "stream",
     "text": [
      ".\\output\\minimal_example\\minimal_example_caseInfo.json\n",
      ".\\output\\minimal_example\\minimal_example_caseLog_log.txt\n",
      ".\\output\\minimal_example\\minimal_example_grid.nc\n",
      ".\\output\\minimal_example\\minimal_example_grid_outline.json\n",
      ".\\output\\minimal_example\\minimal_example_log.txt\n",
      ".\\output\\minimal_example\\minimal_example_runInfo.json\n",
      ".\\output\\minimal_example\\minimal_example_tracks.nc\n",
      ".\\output\\minimal_example\\users_params_minimal_example.json\n"
     ]
    },
    {
     "ename": "NameError",
     "evalue": "name 'params' is not defined",
     "output_type": "error",
     "traceback": [
      "\u001b[1;31m---------------------------------------------------------------------------\u001b[0m",
      "\u001b[1;31mNameError\u001b[0m                                 Traceback (most recent call last)",
      "Cell \u001b[1;32mIn[1], line 9\u001b[0m\n\u001b[0;32m      7\u001b[0m \u001b[39mimport\u001b[39;00m \u001b[39mjson\u001b[39;00m\n\u001b[0;32m      8\u001b[0m \u001b[39mwith\u001b[39;00m \u001b[39mopen\u001b[39m(\u001b[39m'\u001b[39m\u001b[39mA_minimal_example.json\u001b[39m\u001b[39m'\u001b[39m,\u001b[39m'\u001b[39m\u001b[39mw\u001b[39m\u001b[39m'\u001b[39m) \u001b[39mas\u001b[39;00m f: \n\u001b[1;32m----> 9\u001b[0m     json\u001b[39m.\u001b[39mdump(params, f)\n",
      "\u001b[1;31mNameError\u001b[0m: name 'params' is not defined"
     ]
    }
   ],
   "source": [
    "# show a list of output files afte running  mimmal_exampe\n",
    "import glob\n",
    "for f in glob.glob('.\\\\output\\\\minimal_example\\\\*'):\n",
    "    print(f) \n",
    "\n"
   ]
  },
  {
   "cell_type": "markdown",
   "metadata": {},
   "source": []
  }
 ],
 "metadata": {
  "kernelspec": {
   "display_name": "oceanumapp",
   "language": "python",
   "name": "python3"
  },
  "language_info": {
   "codemirror_mode": {
    "name": "ipython",
    "version": 3
   },
   "file_extension": ".py",
   "mimetype": "text/x-python",
   "name": "python",
   "nbconvert_exporter": "python",
   "pygments_lexer": "ipython3",
   "version": "3.10.8"
  },
  "orig_nbformat": 4
 },
 "nbformat": 4,
 "nbformat_minor": 2
}
