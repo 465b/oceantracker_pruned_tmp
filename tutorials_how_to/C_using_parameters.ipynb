{
 "cells": [
  {
   "attachments": {},
   "cell_type": "markdown",
   "metadata": {},
   "source": [
    "# Paramter structure and use\n",
    "\n",
    "   ## Structure\n",
    "\n",
    "   The parameters are in python dictionary form. They cam be wriiten in code or made by editing a json or yaml file.\n",
    "\n",
    "   Top level paramteres have 3 types:\n",
    "\n",
    "      1. Ordiniary values eg \"time_step\", the model time step in seconds.\n",
    "      2. Class Parameters. These end in \"_class\" and load a class using the given paramters. The class instance can be built from a given \n",
    "      \"class_name\" parameter, or  user given \"class_instance\".  The given parmetes are meger with the classes defaults to give a full set.      \n",
    "      3. Lists of classes , these end \"_list\". The name of the list is the type of class. Eg \"particle_release_groups_list\" below is a list of groups of particle elesed at the same times from given points or with a polygon. \n",
    "      4. \"case_list_params\", a list of parametes for cases run in parallel (see running in parallel tutourial).\n",
    "\n",
    "   \n",
    "   The fist 3 are refered to as \"top level parameters\", as the classes may have their own parameters, these class paramters may also be a nested dictionary of parameters. The \"_list\" paramtes are list as there can be more thasn one applied to the model. Eg. there might be several particle motions which need to be inculed, eg a fall_velocity, larvae swimming towards a reef light, etc. All of which modify the given hydrodynamic model's velocity. \n",
    "\n",
    "   Most parameters have defaults, some are required and an error will occur if these are not set by the user in their parameter dictionary.\n",
    "\n",
    "   <links to docs>\n",
    "\n",
    "   This tutorial adds parameters to these in the minimal_example \n",
    "\n",
    "  \n",
    "\n",
    "    "
   ]
  },
  {
   "cell_type": "code",
   "execution_count": 3,
   "metadata": {},
   "outputs": [
    {
     "data": {
      "text/plain": [
       "{'output_file_base': 'minimal_example',\n",
       " 'root_output_dir': 'output',\n",
       " 'reader_class': {'class_name': 'oceantracker.reader.schism_reader.SCHSIMreaderNCDF',\n",
       "  'input_dir': '..\\\\demos\\\\demo_hindcast',\n",
       "  'file_mask': 'demoHindcastSchism*.nc'},\n",
       " 'particle_release_groups_list': [{'points': [[1595000, 5482600],\n",
       "    [1599000, 5486200]],\n",
       "   'release_interval': 3600,\n",
       "   'pulse_size': 10}],\n",
       " 'time_step': 120}"
      ]
     },
     "metadata": {},
     "output_type": "display_data"
    }
   ],
   "source": [
    "# read in previous params from json file\n",
    "import json \n",
    "from IPython.display import display\n",
    "\n",
    "with open('.\\\\example_param_files\\\\A_minimal_example.json','r') as f: \n",
    "    params = json.load(f) \n",
    "display(params)"
   ]
  },
  {
   "attachments": {},
   "cell_type": "markdown",
   "metadata": {},
   "source": [
    "Add parametwrs to \n",
    "\n",
    "1. have a crtical friction velocity to respension, so that prticl onl resupend from the bootom of the friction velocity is large enough. \n",
    "2. Add a particle fall velocity, ie downward terminal velocity, where each particle has it own fall velocity from a normal distibution of given mean and variance. The variance is optional, if not given all particles will have the same fall velocity. \n",
    "\n"
   ]
  },
  {
   "cell_type": "code",
   "execution_count": 4,
   "metadata": {},
   "outputs": [
    {
     "data": {
      "text/plain": [
       "{'output_file_base': 'B_fallvel_resuspension',\n",
       " 'root_output_dir': 'output',\n",
       " 'reader_class': {'class_name': 'oceantracker.reader.schism_reader.SCHSIMreaderNCDF',\n",
       "  'input_dir': '..\\\\demos\\\\demo_hindcast',\n",
       "  'file_mask': 'demoHindcastSchism*.nc'},\n",
       " 'particle_release_groups_list': [{'points': [[1595000, 5482600],\n",
       "    [1599000, 5486200]],\n",
       "   'release_interval': 3600,\n",
       "   'pulse_size': 10}],\n",
       " 'time_step': 120,\n",
       " 'resupension_class': {'critical_friction_velocity': 0.005},\n",
       " 'velocity_modifiers_list': [{'class_name': 'oceantracker.velocity_modifiers.terminal_velocity.TerminalVelocity',\n",
       "   'mean': -0.002,\n",
       "   'variance': 0.0002}]}"
      ]
     },
     "metadata": {},
     "output_type": "display_data"
    }
   ],
   "source": [
    "params['output_file_base']= 'C_params_fallvel_resuspension'  # change the file_base to put the output in separate folder \n",
    "\n",
    "params['resupension_class'] = {'critical_friction_velocity': .005}\n",
    "\n",
    "params['velocity_modifiers_list']= [\n",
    "            {'class_name' : 'oceantracker.velocity_modifiers.terminal_velocity.TerminalVelocity', 'mean': -0.002,'variance': 0.0002}\n",
    "            ]\n",
    "display(params)"
   ]
  },
  {
   "attachments": {},
   "cell_type": "markdown",
   "metadata": {},
   "source": [
    "# Ading Classes.\n",
    "\n",
    "Adding classes adds behaviuors, outputs etc to the model run. These are added erith singlely with \"*._class* parametrs. or as lst of \n",
    "\n",
    "classes  have distict roles, thus must be added to the appropuite ductionay key.  Eg. all velocity_modifiers\n",
    "\n",
    "Adding calsses and the \"class_name\"  parameter \n",
    "\n",
    "the above example we add a terminal velocity clas with the given paramters...... \n"
   ]
  },
  {
   "cell_type": "markdown",
   "metadata": {},
   "source": []
  },
  {
   "cell_type": "markdown",
   "metadata": {},
   "source": []
  },
  {
   "cell_type": "markdown",
   "metadata": {},
   "source": []
  },
  {
   "cell_type": "code",
   "execution_count": 5,
   "metadata": {},
   "outputs": [
    {
     "name": "stdout",
     "output_type": "stream",
     "text": [
      "M: --------------------------------------------------------------------------\n",
      "M: OceanTracker preliminary setup\n",
      "M: >>> Warning: Unexpected parameter key \"resupension_class\n",
      "M:       in: top level params check-\n",
      "M: --------------------------------------------------------------------------\n",
      "M: Running OceanTracker started 2023-05-01 15:25:32.343594\n",
      "M:   - Starting: minimal_example\n",
      "M: --------------------------------------------------------------------------\n",
      "M: Starting OceanTracker  Version 0.4.00.003 2023-04-27\n",
      "M:   Python version: 3.10.8 | packaged by conda-forge | (main, Nov  4 2022, 13:42:51) [MSC v.1916 64 bit (AMD64)]\n",
      "M:         - Finished sorting hyrdo-model  files \n",
      "M:       -  done: building node to triangles map, 1.104 sec\n",
      "M:       -  done: building triangle adjacency matrix, 0.242 sec\n",
      "M:       -  done: finding boundary triangles, 0.000 sec\n",
      "M:       -  done: building domain and island outlines, 2.608 sec\n",
      "M:       -  done: calculating triangle areas, 0.000 sec\n",
      "M:   - Input directory: ..\\demos\\demo_hindcast\n",
      "M:   - Setting up params for each case \n",
      "M:       -  done:  merging param defaults and building case params, 0.068 sec\n",
      "M: --------------------------------------------------------------------------\n",
      "P001: --------------------------------------------------------------------------\n",
      "P001: Starting case number   1,  minimal_example at 2023-05-01T15:25:37.607920\n",
      "P001: --------------------------------------------------------------------------\n",
      "P001:   - Delaying start by  0.0 sec\n",
      "P001:   - Starting after delay  of 0.0 sec\n",
      "P001:       -  done: building node to triangles map, 0.000 sec\n",
      "P001:       -  done: building triangle adjacency matrix, 0.000 sec\n",
      "P001:       -  done: finding boundary triangles, 0.000 sec\n",
      "P001:       -  done: building domain and island outlines, 1.147 sec\n",
      "P001:       -  done: calculating triangle areas, 0.000 sec\n",
      "P001:   - set up particle_release_groups\n",
      "P001:   - initialized all core classes\n",
      "P001: >>> Warning: When using a terminal velocity, ensure time step is small enough that vertical displacement is a small fraction of the water depth, ie vertical Courant number < 1\n",
      "P001: >>> Note: No open boundaries requested, as run_params[\"open_boundary_type\"] = 0\n",
      "P001:       Hint: Requires list of open boundary nodes not in hydro model, eg for Schism this can be read from hgrid file to named in reader params and run_params[\"open_boundary_type\"] = 1\n",
      "P001: --------------------------------------------------------------------------\n",
      "P001:   - Starting minimal_example,  duration: 0 days 23 hrs 0 min 0 sec\n",
      "P001:   - Reading-file-01  demoHindcastSchism3D.nc, steps in file  24, steps  available 000:023, reading  24 of 48 steps,  for hydo-model time steps 00:23,  from file offsets 00:23,  into ring buffer offsets 000:023 \n",
      "P001:       -  read  24 time steps in  0.5 sec\n",
      "P001:   - opening tracks output to : minimal_example_tracks.nc\n",
      "P001: 00% step 0000:H0000b00-01 Day +00 00:00 2017-01-01 00:30:00: Rel.:000020: Active:00020 M:00019 S:00000 B:00001 D:000 O:00 N:0 Buffer:  20-  4% step time = 5049.4 ms\n",
      "P001: 04% step 0030:H0001b01-02 Day +00 01:00 2017-01-01 01:30:00: Rel.:000040: Active:00040 M:00030 S:00000 B:00010 D:000 O:00 N:0 Buffer:  40-  8% step time =  2.5 ms\n",
      "P001: 09% step 0060:H0002b02-03 Day +00 02:00 2017-01-01 02:30:00: Rel.:000060: Active:00060 M:00043 S:00000 B:00017 D:000 O:00 N:0 Buffer:  60- 13% step time =  2.6 ms\n",
      "P001: 13% step 0090:H0003b03-04 Day +00 03:00 2017-01-01 03:30:00: Rel.:000080: Active:00080 M:00050 S:00014 B:00016 D:000 O:00 N:0 Buffer:  80- 17% step time =  2.7 ms\n",
      "P001: 17% step 0120:H0004b04-05 Day +00 04:00 2017-01-01 04:30:00: Rel.:000100: Active:00100 M:00057 S:00019 B:00024 D:000 O:00 N:0 Buffer: 100- 21% step time =  2.9 ms\n",
      "P001: 22% step 0150:H0005b05-06 Day +00 05:00 2017-01-01 05:30:00: Rel.:000120: Active:00120 M:00064 S:00027 B:00029 D:000 O:00 N:0 Buffer: 120- 25% step time =  2.7 ms\n",
      "P001: 26% step 0180:H0006b06-07 Day +00 06:00 2017-01-01 06:30:00: Rel.:000140: Active:00140 M:00076 S:00030 B:00034 D:000 O:00 N:0 Buffer: 140- 30% step time =  2.6 ms\n",
      "P001: 30% step 0210:H0007b07-08 Day +00 07:00 2017-01-01 07:30:00: Rel.:000160: Active:00160 M:00087 S:00027 B:00046 D:000 O:00 N:0 Buffer: 160- 34% step time =  2.6 ms\n",
      "P001: 35% step 0240:H0008b08-09 Day +00 08:00 2017-01-01 08:30:00: Rel.:000180: Active:00180 M:00095 S:00025 B:00060 D:000 O:00 N:0 Buffer: 180- 38% step time =  2.8 ms\n",
      "P001: 39% step 0270:H0009b09-10 Day +00 09:00 2017-01-01 09:30:00: Rel.:000200: Active:00200 M:00102 S:00009 B:00089 D:000 O:00 N:0 Buffer: 200- 42% step time =  2.6 ms\n",
      "P001: 43% step 0300:H0010b10-11 Day +00 10:00 2017-01-01 10:30:00: Rel.:000220: Active:00220 M:00100 S:00009 B:00111 D:000 O:00 N:0 Buffer: 220- 47% step time =  2.6 ms\n",
      "P001: 48% step 0330:H0011b11-12 Day +00 11:00 2017-01-01 11:30:00: Rel.:000240: Active:00240 M:00092 S:00012 B:00136 D:000 O:00 N:0 Buffer: 240- 51% step time =  2.6 ms\n",
      "P001: 52% step 0360:H0012b12-13 Day +00 12:00 2017-01-01 12:30:00: Rel.:000260: Active:00260 M:00121 S:00016 B:00123 D:000 O:00 N:0 Buffer: 260- 55% step time =  2.9 ms\n",
      "P001: 57% step 0390:H0013b13-14 Day +00 13:00 2017-01-01 13:30:00: Rel.:000280: Active:00280 M:00112 S:00030 B:00138 D:000 O:00 N:0 Buffer: 280- 59% step time =  2.6 ms\n",
      "P001: 61% step 0420:H0014b14-15 Day +00 14:00 2017-01-01 14:30:00: Rel.:000300: Active:00300 M:00132 S:00036 B:00132 D:000 O:00 N:0 Buffer: 300- 63% step time =  2.7 ms\n",
      "P001: 65% step 0450:H0015b15-16 Day +00 15:00 2017-01-01 15:30:00: Rel.:000320: Active:00320 M:00110 S:00092 B:00118 D:000 O:00 N:0 Buffer: 320- 68% step time =  2.8 ms\n",
      "P001: 70% step 0480:H0016b16-17 Day +00 16:00 2017-01-01 16:30:00: Rel.:000340: Active:00340 M:00116 S:00096 B:00128 D:000 O:00 N:0 Buffer: 340- 72% step time =  3.1 ms\n",
      "P001: 74% step 0510:H0017b17-18 Day +00 17:00 2017-01-01 17:30:00: Rel.:000360: Active:00360 M:00131 S:00103 B:00126 D:000 O:00 N:0 Buffer: 360- 76% step time =  2.8 ms\n",
      "P001: 78% step 0540:H0018b18-19 Day +00 18:00 2017-01-01 18:30:00: Rel.:000380: Active:00380 M:00142 S:00108 B:00130 D:000 O:00 N:0 Buffer: 380- 80% step time =  2.8 ms\n",
      "P001: 83% step 0570:H0019b19-20 Day +00 19:00 2017-01-01 19:30:00: Rel.:000400: Active:00400 M:00157 S:00111 B:00132 D:000 O:00 N:0 Buffer: 400- 85% step time =  2.8 ms\n",
      "P001: 87% step 0600:H0020b20-21 Day +00 20:00 2017-01-01 20:30:00: Rel.:000420: Active:00420 M:00144 S:00112 B:00164 D:000 O:00 N:0 Buffer: 420- 89% step time =  3.0 ms\n",
      "P001: 91% step 0630:H0021b21-22 Day +00 21:00 2017-01-01 21:30:00: Rel.:000440: Active:00440 M:00182 S:00062 B:00196 D:000 O:00 N:0 Buffer: 440- 93% step time =  2.8 ms\n",
      "P001: 96% step 0660:H0022b22-23 Day +00 22:00 2017-01-01 22:30:00: Rel.:000460: Active:00460 M:00174 S:00054 B:00232 D:000 O:00 N:0 Buffer: 460- 97% step time =  2.7 ms\n",
      "P001: 100% step 0689:H0022b22-23 Day +00 22:58 2017-01-01 23:28:00: Rel.:000460: Active:00460 M:00295 S:00046 B:00119 D:000 O:00 N:0 Buffer: 460- 97% step time =  2.9 ms\n",
      "P001: >>> Warning: When using a terminal velocity, ensure time step is small enough that vertical displacement is a small fraction of the water depth, ie vertical Courant number < 1\n",
      "P001: >>> Note: No open boundaries requested, as run_params[\"open_boundary_type\"] = 0\n",
      "P001:       Hint: Requires list of open boundary nodes not in hydro model, eg for Schism this can be read from hgrid file to named in reader params and run_params[\"open_boundary_type\"] = 1\n",
      "P001: --------------------------------------------------------------------------\n",
      "P001:   - Finished case number   1,  minimal_example started: 2023-05-01 15:25:37.606919, ended: 2023-05-01 15:25:48.328617\n",
      "P001:       Elapsed time =0:00:10.721698\n",
      "P001: --------------------------------------------------------------------------\n",
      "M: >>> Warning: Unexpected parameter key \"resupension_class\n",
      "M:       in: top level params check-\n",
      "M: --------------------------------------------------------------------------\n",
      "M:   - Finished -  started: 2023-05-01 15:25:37.605922- ended: 2023-05-01 15:25:48.386752\n",
      "M:       Elapsed time =0:00:10.780830\n",
      "M:         Output in e:\\OneDrive - Cawthron\\H_Local_drive\\ParticleTracking\\oceantracker\\tutorials_how_to\\output\\minimal_example\n",
      "M: --------------------------------------------------------------------------\n"
     ]
    }
   ],
   "source": [
    "# run oceantracker\n",
    "from oceantracker.main import OceanTracker\n",
    "\n",
    "OT = OceanTracker(params) # make an instance with given parameters\n",
    "run_info_file_name, has_errors= OT.run()  "
   ]
  },
  {
   "cell_type": "markdown",
   "metadata": {},
   "source": []
  },
  {
   "cell_type": "code",
   "execution_count": 5,
   "metadata": {},
   "outputs": [],
   "source": [
    "# write params for viewing \n",
    "import json\n",
    "with open('.\\\\example_param_files\\\\C_params_fallvel_resuspensione.json','w') as f: \n",
    "    json.dump(params, f) \n",
    "\n",
    "import yaml\n",
    "with open('.\\\\example_param_files\\\\C_params_fallvel_resuspension.yaml','w') as f: \n",
    "    yaml.dump(params, f)"
   ]
  }
 ],
 "metadata": {
  "kernelspec": {
   "display_name": "oceanumapp",
   "language": "python",
   "name": "python3"
  },
  "language_info": {
   "codemirror_mode": {
    "name": "ipython",
    "version": 3
   },
   "file_extension": ".py",
   "mimetype": "text/x-python",
   "name": "python",
   "nbconvert_exporter": "python",
   "pygments_lexer": "ipython3",
   "version": "3.10.8"
  },
  "orig_nbformat": 4
 },
 "nbformat": 4,
 "nbformat_minor": 2
}
