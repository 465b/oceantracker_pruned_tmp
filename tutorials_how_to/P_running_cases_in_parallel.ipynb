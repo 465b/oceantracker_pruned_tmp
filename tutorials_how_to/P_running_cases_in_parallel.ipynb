{
 "cells": [
  {
   "attachments": {},
   "cell_type": "markdown",
   "metadata": {},
   "source": [
    "# Run in parallel\n",
    "\n",
    "[This note-book is in oceantracker/tutorials_how_to/]\n",
    "\n",
    "Running in parallel can be done using the \"run with parameters\" approach, not the helper class method.   Simply build a list of  \"cases\" parameters , then pass this list, eg. main.run(case_list).  This the output files for each case will be tagged with a processor number.\n",
    "\n",
    "\n",
    "The cases can be different, eg have differ release groups etc. A small number of settings must be the same for all cases, eg. setting \"root_output_folder\" must be the same for all cases. These setting will be taken from the first case.  Warnings are given if trying to use different values of these settings than that given in the first case. \n",
    "\n",
    "Add example below"
   ]
  },
  {
   "cell_type": "code",
   "execution_count": null,
   "metadata": {},
   "outputs": [],
   "source": [
    "# under develop"
   ]
  },
  {
   "attachments": {},
   "cell_type": "markdown",
   "metadata": {},
   "source": []
  },
  {
   "attachments": {},
   "cell_type": "markdown",
   "metadata": {},
   "source": []
  },
  {
   "attachments": {},
   "cell_type": "markdown",
   "metadata": {},
   "source": []
  }
 ],
 "metadata": {
  "language_info": {
   "name": "python"
  },
  "orig_nbformat": 4
 },
 "nbformat": 4,
 "nbformat_minor": 2
}
