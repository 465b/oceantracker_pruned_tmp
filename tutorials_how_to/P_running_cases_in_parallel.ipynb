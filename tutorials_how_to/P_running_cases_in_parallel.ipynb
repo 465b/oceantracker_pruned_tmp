{
 "cells": [
  {
   "attachments": {},
   "cell_type": "markdown",
   "metadata": {},
   "source": [
    "# Run in parallel\n",
    "\n",
    "[This note-book is in oceantracker/tutorials_how_to/]\n",
    "\n",
    "Running in parallel can be done using the \"run with parameters\" approach, not the helper class method.   Simply build a list of  \"cases\" parameters, then pass this list, eg. main.run(case_list).  The output files for each case will be tagged with a processor number. The number of active cases is be limited to be one less than the number of physical processes available.  For large runs, memory to store the hindcast for each case may cause an error. To work around this, reduce the number of processors with the setting \"processors\". \n",
    "\n",
    "The cases can be different, eg. have different release groups etc. A small number of settings must be the same for all cases, eg. setting \"root_output_folder\" must be the same for all cases. These settings will be taken from the first case.  Warnings are given if trying to use different values of these settings than that given in the first case. \n",
    "\n",
    "Is is strongly recommend to run parallel cases from within a python script, rather than notebooks which have limitations in Windows and may result in errors.\n",
    "\n",
    "## Example parallel release groups\n",
    "\n",
    "The below example runs a separate release group as its own parallel \"case\". \n",
    "\n",
    "To run in parallel on windows requires  run to be within a if __name__ == '__main__' block.  iPython note books ignores if __name__ == '__main__' statements, thus the below will not run when within a notebook in windows.  Use in notebooks also frequently gives \"file in use by another process\" errors.\n",
    "\n",
    "To avoid  this run parallel case as code in file  \"oceantracker/tutorials_how_to/P_running_cases_in_parallel.py\"."
   ]
  },
  {
   "cell_type": "code",
   "execution_count": 1,
   "metadata": {},
   "outputs": [],
   "source": [
    "# oceantracker parallel demo, run different release groups as parallel processes\n",
    "from oceantracker import main\n",
    "\n",
    "# first build base case, params used for all cases\n",
    "base_case={\n",
    "    'output_file_base' :'param_test1',      # name used as base for output files\n",
    "    'root_output_dir':'output',             #  output is put in dir   'root_output_dir'/'output_file_base'\n",
    "    'time_step' : 120,  #  2 min time step as seconds  \n",
    "    'reader':{'input_dir': '../demos/demo_hindcast',  # folder to search for hindcast files, sub-dirs will, by default, also be searched\n",
    "                    'file_mask': 'demoHindcastSchism*.nc',    # the file mask of the hindcast files\n",
    "        },\n",
    "        }\n",
    "\n",
    "# define the required release  points\n",
    "points = [  [1597682.1237, 5489972.7479],\n",
    "            [1598604.1667, 5490275.5488],\n",
    "            [1598886.4247, 5489464.0424],\n",
    "            [1597917.3387, 5489000],\n",
    "        ]\n",
    "\n",
    "# build a list of params for each case, with one release group fot each point\n",
    "case_list=[]\n",
    "for n,p in enumerate(points):\n",
    "    case_param = main.param_template()\n",
    "    # add one point as a release group to this case\n",
    "    case_param['release_groups']['mypoint'+str(n)] = {  # better to give release group a unique name\n",
    "                                            'points':[p],  # needs to be 1, by 2 list for single 2D point\n",
    "                                            'release_interval': 3600,           # seconds between releasing particles\n",
    "                                            'pulse_size': 10,                   # number of particles released each release_interval\n",
    "                                }\n",
    "    case_list.append(case_param)  # add this case to the list\n",
    "\n",
    "\n",
    "\n",
    "# to run parallel in windows, must put run  call  inside the below \"if __name__ == '__main__':\" block\n",
    "if __name__ == '__main__':\n",
    "\n",
    "    # run as parallel set of cases\n",
    "    #    by default uses one less than the number of physical processors at one time, use setting \"processors\"\n",
    "    main.run_parallel(base_case, case_list)"
   ]
  }
 ],
 "metadata": {
  "kernelspec": {
   "display_name": "developer-oceantracker",
   "language": "python",
   "name": "python3"
  },
  "language_info": {
   "codemirror_mode": {
    "name": "ipython",
    "version": 3
   },
   "file_extension": ".py",
   "mimetype": "text/x-python",
   "name": "python",
   "nbconvert_exporter": "python",
   "pygments_lexer": "ipython3",
   "version": "3.10.8"
  },
  "orig_nbformat": 4
 },
 "nbformat": 4,
 "nbformat_minor": 2
}
