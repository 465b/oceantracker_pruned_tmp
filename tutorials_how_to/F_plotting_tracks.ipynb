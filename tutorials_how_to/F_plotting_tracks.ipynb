{
 "cells": [
  {
   "attachments": {},
   "cell_type": "markdown",
   "metadata": {},
   "source": [
    "# plotting tracks\n",
    "\n",
    "[This note-book is in oceantracker/tutorials_how_to/]\n",
    "\n",
    "add...\n"
   ]
  },
  {
   "cell_type": "code",
   "execution_count": null,
   "metadata": {},
   "outputs": [],
   "source": [
    "# add an example showing uses of kwargs"
   ]
  }
 ],
 "metadata": {
  "kernelspec": {
   "display_name": "oceantracker",
   "language": "python",
   "name": "python3"
  },
  "language_info": {
   "name": "python",
   "version": "3.10.10"
  },
  "orig_nbformat": 4
 },
 "nbformat": 4,
 "nbformat_minor": 2
}
