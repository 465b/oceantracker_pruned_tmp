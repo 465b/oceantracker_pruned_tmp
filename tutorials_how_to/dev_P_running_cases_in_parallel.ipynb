{
 "cells": [
  {
   "cell_type": "code",
   "execution_count": null,
   "metadata": {},
   "outputs": [],
   "source": []
  },
  {
   "cell_type": "code",
   "execution_count": null,
   "metadata": {},
   "outputs": [],
   "source": [
    "# running in paramlet \n",
    "      4. \"case_list_params\", these are the paramters as above which will run cases run in parallel.  This is a list of top level parameters used for each case run in paralle. The top level  essttial user given defaults for those in each case. Eg. a case may have its own time_step, or add items to the class_lists eg releases_groups,  which are used with the case.  For technical reasons, a small numer of parameters cannot be set for an individual case, eg \"back_tracking\", atempting to set these with raise and error. See running in parallel tutourial for more details."
   ]
  },
  {
   "cell_type": "markdown",
   "metadata": {},
   "source": []
  },
  {
   "cell_type": "markdown",
   "metadata": {},
   "source": []
  },
  {
   "cell_type": "markdown",
   "metadata": {},
   "source": []
  }
 ],
 "metadata": {
  "language_info": {
   "name": "python"
  },
  "orig_nbformat": 4
 },
 "nbformat": 4,
 "nbformat_minor": 2
}
