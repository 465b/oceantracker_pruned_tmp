{
 "cells": [
  {
   "attachments": {},
   "cell_type": "markdown",
   "metadata": {},
   "source": [
    "# test ig signatures and output args affects speed"
   ]
  },
  {
   "cell_type": "code",
   "execution_count": 97,
   "metadata": {},
   "outputs": [],
   "source": [
    "import numpy as np\n",
    "from time import perf_counter\n",
    "\n",
    "from numba import njit, types as nbtypes, typeof\n",
    "\n",
    "\n",
    "@njit()\n",
    "def test0(a, b ,c,out):\n",
    "    s= 0.\n",
    "    for n in range(a.shape[0]):\n",
    "        for m in range(a.shape[1]):\n",
    "            s += np.sin(a[n, m]) + np.cos(b[n, m]) + c[n, m]\n",
    "    return s\n",
    "\n",
    "#@njit()\n",
    "@njit(nbtypes.float64(nbtypes.float64[:], nbtypes.float32[:], nbtypes.int32[:]))\n",
    "def kernal(a, b ,c):\n",
    "    out = 0.\n",
    "    for  m in range(a.shape[0]):\n",
    "         out += np.sin(a[m]) + np.cos(b[m]) + c[m]\n",
    "    return out\n",
    "\n",
    "@njit()\n",
    "def test1(a, b ,c, out):\n",
    "    out[0]=0\n",
    "    for n in range(a.shape[0]):\n",
    "        out[0] += kernal(a[n,:] , b[n,:], c[n,:])\n",
    "    return out[0]\n",
    "\n",
    "@njit(nbtypes.float64(nbtypes.float64[:,:],nbtypes.float32[:,:],nbtypes.int32[:,:], typeof(1)),inline='never')\n",
    "#@njit\n",
    "def kernal2(a, b ,c,n):\n",
    "    s = 0.\n",
    "    for  m in range(a.shape[1]):\n",
    "         s += np.sin(a[n,m]) + np.cos(b[n, m]) + c[n, m]\n",
    "    return s\n",
    "\n",
    "@njit\n",
    "def test2(a, b, c, out):\n",
    "    s = 0.\n",
    "\n",
    "    for n in range(a.shape[0]):\n",
    "        s += kernal2(a,b,c,n)\n",
    "    out[0] = s\n",
    "    \n",
    "\n",
    "N=1000000\n",
    "M= 3\n",
    "\n",
    "A = np.random.random((N,M))\n",
    "B =np.random.random((N,M)).astype(np.float32)\n",
    "C =np.random.random((N,M)).astype(np.int32)\n",
    "\n",
    "out = np.zeros((M,),dtype = np.float64)\n",
    "\n",
    "# pre-compile \n",
    "test0(A, B,C, out)\n",
    "test1(A, B,C, out)\n",
    "test2(A, B, C,out)\n"
   ]
  },
  {
   "cell_type": "code",
   "execution_count": 77,
   "metadata": {},
   "outputs": [
    {
     "name": "stdout",
     "output_type": "stream",
     "text": [
      "36.5 ms ± 223 µs per loop (mean ± std. dev. of 7 runs, 100 loops each)\n"
     ]
    }
   ],
   "source": [
    "%%timeit -n 100\n",
    "test0(A, B, C,out)"
   ]
  },
  {
   "cell_type": "code",
   "execution_count": 98,
   "metadata": {},
   "outputs": [
    {
     "name": "stdout",
     "output_type": "stream",
     "text": [
      "32.5 ms ± 257 µs per loop (mean ± std. dev. of 7 runs, 100 loops each)\n"
     ]
    }
   ],
   "source": [
    "%%timeit -n 100\n",
    "test1(A, B, C,out)"
   ]
  },
  {
   "cell_type": "code",
   "execution_count": 92,
   "metadata": {},
   "outputs": [
    {
     "name": "stdout",
     "output_type": "stream",
     "text": [
      "32 ms ± 68.5 µs per loop (mean ± std. dev. of 7 runs, 100 loops each)\n"
     ]
    }
   ],
   "source": [
    "%%timeit -n 100\n",
    "test2(A, B, C,out)"
   ]
  },
  {
   "cell_type": "code",
   "execution_count": 127,
   "metadata": {},
   "outputs": [],
   "source": [
    "from numba import njit, types as nbtypes, typeof\n",
    "\n",
    "@njit\n",
    "def numba_max1(x,out):\n",
    "    for n in range(x.shape[0]):\n",
    "        for m in range(x.shape[1]):\n",
    "            if x[n,m] > x[n,0] : out[n] = m\n",
    "            if x[n,m] < x[n,0] : out[n] = m\n",
    "\n",
    "\n",
    "@njit\n",
    "def numba_max2(x,out):\n",
    "    for n in range(x.shape[0]):\n",
    "        out[n] = np.argmax(x[n,:]) \n",
    "        out[n] = np.argmin(x[n,:]) \n",
    "\n",
    "\n",
    "\n",
    "\n",
    "N=10000\n",
    "\n",
    "x = np.random.random((N,3))\n",
    "out = np.zeros((N,),dtype=np.int32)\n",
    "\n",
    "numba_max1(x,out)\n",
    "numba_max2(x,out)\n",
    "\n"
   ]
  },
  {
   "attachments": {},
   "cell_type": "markdown",
   "metadata": {},
   "source": [
    "# fast maxium of two values for recording indext of max for use in largest barycetric cords"
   ]
  },
  {
   "cell_type": "code",
   "execution_count": 128,
   "metadata": {},
   "outputs": [
    {
     "name": "stdout",
     "output_type": "stream",
     "text": [
      "108 µs ± 433 ns per loop (mean ± std. dev. of 7 runs, 10,000 loops each)\n"
     ]
    }
   ],
   "source": [
    "%%timeit \n",
    "numba_max1(x,out)"
   ]
  },
  {
   "cell_type": "code",
   "execution_count": 129,
   "metadata": {},
   "outputs": [
    {
     "name": "stdout",
     "output_type": "stream",
     "text": [
      "47.9 µs ± 125 ns per loop (mean ± std. dev. of 7 runs, 10,000 loops each)\n"
     ]
    }
   ],
   "source": [
    "%%timeit \n",
    "numba_max2(x,out)"
   ]
  }
 ],
 "metadata": {
  "kernelspec": {
   "display_name": "developer-oceantracker",
   "language": "python",
   "name": "python3"
  },
  "language_info": {
   "codemirror_mode": {
    "name": "ipython",
    "version": 3
   },
   "file_extension": ".py",
   "mimetype": "text/x-python",
   "name": "python",
   "nbconvert_exporter": "python",
   "pygments_lexer": "ipython3",
   "version": "3.10.9"
  },
  "orig_nbformat": 4,
  "vscode": {
   "interpreter": {
    "hash": "4e9957bbd2fbdc6381a63cac1c6c1fd226a6200f6e622c3a133789ed93e8445e"
   }
  }
 },
 "nbformat": 4,
 "nbformat_minor": 2
}
